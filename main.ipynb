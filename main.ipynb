{
 "cells": [
  {
   "cell_type": "code",
   "execution_count": null,
   "metadata": {
    "collapsed": true
   },
   "outputs": [],
   "source": [
    "import pandas as pd\n",
    "from pathlib import Path\n",
    "import json\n",
    "\n",
    "data_dir = Path('D:\\\\Documents\\\\2022\\\\princeton-hci\\\\test\\\\data_inputs')\n",
    "\n",
    "FIPS = [{\"name\": \"Alabama\", \"abb\": \"AL\", \"code\": \"01\"},\n",
    "        {\"name\": \"Alaska\", \"abb\": \"AK\", \"code\": \"02\"},\n",
    "        {\"name\": \"Arizona\", \"abb\": \"AZ\", \"code\": \"04\"},\n",
    "        {\"name\": \"Arkansas\", \"abb\": \"AR\", \"code\": \"05\"},\n",
    "        {\"name\": \"California\", \"abb\": \"CA\", \"code\": \"06\"},\n",
    "        {\"name\": \"Colorado\", \"abb\": \"CO\", \"code\": \"08\"},\n",
    "        {\"name\": \"Connecticut\", \"abb\": \"CT\", \"code\": \"09\"},\n",
    "        {\"name\": \"Delaware\", \"abb\": \"DE\", \"code\": \"10\"},\n",
    "        {\"name\": \"Florida\", \"abb\": \"FL\", \"code\": \"12\"},\n",
    "        {\"name\": \"Georgia\", \"abb\": \"GA\", \"code\": \"13\"},\n",
    "        {\"name\": \"Hawaii\", \"abb\": \"HI\", \"code\": \"15\"},\n",
    "        {\"name\": \"Idaho\", \"abb\": \"ID\", \"code\": \"16\"},\n",
    "        {\"name\": \"Illinois\", \"abb\": \"IL\", \"code\": \"17\"},\n",
    "        {\"name\": \"Indiana\", \"abb\": \"IN\", \"code\": \"18\"},\n",
    "        {\"name\": \"Iowa\", \"abb\": \"IA\", \"code\": \"19\"},\n",
    "        {\"name\": \"Kansas\", \"abb\": \"KS\", \"code\": \"20\"},\n",
    "        {\"name\": \"Kentucky\", \"abb\": \"KY\", \"code\": \"21\"},\n",
    "        {\"name\": \"Louisiana\", \"abb\": \"LA\", \"code\": \"22\"},\n",
    "        {\"name\": \"Maine\", \"abb\": \"ME\", \"code\": \"23\"},\n",
    "        {\"name\": \"Maryland\", \"abb\": \"MD\", \"code\": \"24\"},\n",
    "        {\"name\": \"Massachusetts\", \"abb\": \"MA\", \"code\": \"25\"},\n",
    "        {\"name\": \"Michigan\", \"abb\": \"MI\", \"code\": \"26\"},\n",
    "        {\"name\": \"Minnesota\", \"abb\": \"MN\", \"code\": \"27\"},\n",
    "        {\"name\": \"Mississippi\", \"abb\": \"MS\", \"code\": \"28\"},\n",
    "        {\"name\": \"Missouri\", \"abb\": \"MO\", \"code\": \"29\"},\n",
    "        {\"name\": \"Montana\", \"abb\": \"MT\", \"code\": \"30\"},\n",
    "        {\"name\": \"Nebraska\", \"abb\": \"NE\", \"code\": \"31\"},\n",
    "        {\"name\": \"Nevada\", \"abb\": \"NV\", \"code\": \"32\"},\n",
    "        {\"name\": \"New Hampshire\", \"abb\": \"NH\", \"code\": \"33\"},\n",
    "        {\"name\": \"New Jersey\", \"abb\": \"NJ\", \"code\": \"34\"},\n",
    "        {\"name\": \"New Mexico\", \"abb\": \"NM\", \"code\": \"35\"},\n",
    "        {\"name\": \"New York\", \"abb\": \"NY\", \"code\": \"36\"},\n",
    "        {\"name\": \"North Carolina\", \"abb\": \"NC\", \"code\": \"37\"},\n",
    "        {\"name\": \"North Dakota\", \"abb\": \"ND\", \"code\": \"38\"},\n",
    "        {\"name\": \"Ohio\", \"abb\": \"OH\", \"code\": \"39\"},\n",
    "        {\"name\": \"Oklahoma\", \"abb\": \"OK\", \"code\": \"40\"},\n",
    "        {\"name\": \"Oregon\", \"abb\": \"OR\", \"code\": \"41\"},\n",
    "        {\"name\": \"Pennsylvania\", \"abb\": \"PA\", \"code\": \"42\"},\n",
    "        {\"name\": \"Rhode Island\", \"abb\": \"RI\", \"code\": \"44\"},\n",
    "        {\"name\": \"South Carolina\", \"abb\": \"SC\", \"code\": \"45\"},\n",
    "        {\"name\": \"South Dakota\", \"abb\": \"SD\", \"code\": \"46\"},\n",
    "        {\"name\": \"Tennessee\", \"abb\": \"TN\", \"code\": \"47\"},\n",
    "        {\"name\": \"Texas\", \"abb\": \"TX\", \"code\": \"48\"},\n",
    "        {\"name\": \"Utah\", \"abb\": \"UT\", \"code\": \"49\"},\n",
    "        {\"name\": \"Vermont\", \"abb\": \"VT\", \"code\": \"50\"},\n",
    "        {\"name\": \"Virginia\", \"abb\": \"VA\", \"code\": \"51\"},\n",
    "        {\"name\": \"Washington\", \"abb\": \"WA\", \"code\": \"53\"},\n",
    "        {\"name\": \"West Virginia\", \"abb\": \"WV\", \"code\": \"54\"},\n",
    "        {\"name\": \"Wisconsin\", \"abb\": \"WI\", \"code\": \"55\"},\n",
    "        {\"name\": \"Wyoming\", \"abb\": \"WY\", \"code\": \"56\"},\n",
    "        {\"name\": \"American Samoa\", \"abb\": \"AS\", \"code\": \"60\"},\n",
    "        {\"name\": \"Guam\", \"abb\": \"GU\", \"code\": \"66\"},\n",
    "        {\"name\": \"Northern Mariana Islands\", \"abb\": \"MP\", \"code\": \"69\"},\n",
    "        {\"name\": \"Puerto Rico\", \"abb\": \"PR\", \"code\": \"72\"},\n",
    "        {\"name\": \"Virgin Islands\", \"abb\": \"VI\", \"code\": \"78\"}]"
   ]
  },
  {
   "cell_type": "markdown",
   "metadata": {
    "collapsed": false
   },
   "source": [
    "### Download all state tract info (only needs to be run once)"
   ]
  },
  {
   "cell_type": "code",
   "execution_count": null,
   "metadata": {
    "collapsed": false
   },
   "outputs": [],
   "source": [
    "import requests\n",
    "from dotenv import load_dotenv\n",
    "\n",
    "load_dotenv()\n",
    "\n",
    "API_KEY = os.getenv('API_KEY')\n",
    "\n",
    "all_data = [[\"NAME\", \"B25001_001E\", \"state\", \"county\", \"tract\"]]\n",
    "for state in FIPS:\n",
    "    res = requests.get(\n",
    "        # use 2019 data because 2020 data missing some tracts\n",
    "        f'https://api.census.gov/data/2019/acs/acs5?get=NAME,B25001_001E&for=tract:*&in=state:{state[\"code\"]}&key={API_KEY}')\n",
    "    if res.text == '':\n",
    "        continue\n",
    "    state_data = res.json()\n",
    "    all_data.extend(state_data[1:])\n",
    "    print(state['name'])\n",
    "\n",
    "with open(data_dir / 'all_housing.json', 'w') as f:\n",
    "    json.dump(all_data, f)"
   ]
  },
  {
   "cell_type": "code",
   "execution_count": null,
   "metadata": {
    "collapsed": false
   },
   "outputs": [],
   "source": [
    "zips = pd.read_excel(data_dir / 'zip_lookup.xlsx', index_col=0,\n",
    "                     dtype={'zip': str, 'tract': str, 'usps_zip_pref_state': str, 'res_ratio': float,\n",
    "                            'bus_ratio': float, 'oth_ratio': float, 'tot_ratio': float})\n",
    "zips.rename(columns={'tract': 'geoid'}, inplace=True)"
   ]
  },
  {
   "cell_type": "code",
   "execution_count": null,
   "metadata": {
    "collapsed": false
   },
   "outputs": [],
   "source": [
    "# # https://www.census.gov/programs-surveys/geography/guidance/geo-identifiers.html\n",
    "\n",
    "STATE_LENGTH = 2\n",
    "COUNTY_LENGTH = 4\n",
    "TRACT_LENGTH = 6\n",
    "\n",
    "\n",
    "def split_geoid(geoid):\n",
    "    return geoid[:STATE_LENGTH], geoid[STATE_LENGTH:STATE_LENGTH + COUNTY_LENGTH - 1], geoid[-TRACT_LENGTH:]"
   ]
  },
  {
   "cell_type": "code",
   "execution_count": null,
   "metadata": {
    "collapsed": false
   },
   "outputs": [],
   "source": [
    "pdb = pd.read_csv(data_dir / 'pdb.csv', index_col=0, encoding=\"latin-1\", low_memory=False, dtype={286: 'string'})"
   ]
  },
  {
   "cell_type": "code",
   "execution_count": null,
   "metadata": {
    "collapsed": false
   },
   "outputs": [],
   "source": [
    "housing['geoid']"
   ]
  },
  {
   "cell_type": "code",
   "execution_count": null,
   "metadata": {
    "collapsed": false
   },
   "outputs": [],
   "source": [
    "import json\n",
    "\n",
    "with open(data_dir / 'all_housing.json') as f:\n",
    "    data = json.load(f)\n",
    "\n",
    "housing = pd.DataFrame(data[1:], columns=data[0])\n",
    "housing.set_index('tract')\n",
    "\n",
    "\n",
    "def geoid(state, county, tract):\n",
    "    return state + county + tract\n",
    "\n",
    "\n",
    "print(housing[0:1])\n",
    "housing['geoid'] = housing.apply(lambda x: geoid(x['state'], x['county'], x['tract']), axis=1)"
   ]
  },
  {
   "cell_type": "code",
   "execution_count": null,
   "metadata": {
    "collapsed": false
   },
   "outputs": [],
   "source": [
    "def get_tracts_in_zip(zip_code):\n",
    "    res = zips.query('zip == @zip_code')\n",
    "    return res.to_numpy()\n",
    "\n",
    "\n",
    "get_tracts_in_zip(\"98103\")"
   ]
  },
  {
   "cell_type": "code",
   "execution_count": null,
   "metadata": {
    "collapsed": false
   },
   "outputs": [],
   "source": [
    "# GIDTR (11 chars) = State (2 chars) + County (3 chars) + Tract (6 chars)\n",
    "def get_tract_housing_density(geoid):\n",
    "    matches = housing.query(f'geoid == @geoid')\n",
    "    housing_count = int(matches.iloc[0, matches.columns.get_loc('B25001_001E')])\n",
    "    geoid_int = int(geoid)\n",
    "    # area is in sq. mi\n",
    "    land_area = pdb.query('GIDTR == @geoid_int').iloc[0, pdb.columns.get_loc('LAND_AREA')]\n",
    "\n",
    "    return housing_count / float(land_area), housing_count\n",
    "\n",
    "\n",
    "get_tract_housing_density(\"36061003100\")"
   ]
  },
  {
   "cell_type": "code",
   "execution_count": null,
   "metadata": {
    "collapsed": false
   },
   "outputs": [],
   "source": [
    "def get_zip_housing_density(zip_code):\n",
    "    all_tract_data = get_tracts_in_zip(zip_code)\n",
    "    weighted_sum = 0\n",
    "    applied_weights = 0\n",
    "    for tract in all_tract_data:\n",
    "        # print(tract[0])\n",
    "        ratio, weight = get_tract_housing_density(tract[0])\n",
    "        # print(ratio)\n",
    "        weighted_sum += ratio * weight\n",
    "        applied_weights += weight\n",
    "\n",
    "    return weighted_sum / applied_weights\n",
    "\n",
    "\n",
    "for z in [\"98279\", \"98103\", \"98052\", \"10009\"]:\n",
    "    print(get_zip_housing_density(z))"
   ]
  },
  {
   "cell_type": "code",
   "execution_count": null,
   "metadata": {
    "collapsed": false
   },
   "outputs": [],
   "source": []
  }
 ],
 "metadata": {
  "kernelspec": {
   "display_name": "Python 3.10.5 64-bit",
   "language": "python",
   "name": "python3"
  },
  "language_info": {
   "codemirror_mode": {
    "name": "ipython",
    "version": 3
   },
   "file_extension": ".py",
   "mimetype": "text/x-python",
   "name": "python",
   "nbconvert_exporter": "python",
   "pygments_lexer": "ipython3",
   "version": "3.10.5"
  },
  "vscode": {
   "interpreter": {
    "hash": "23cdb42a96bf388e0a82e31dd118e4a8b2444a2f3070a88327289a79e98f26a1"
   }
  }
 },
 "nbformat": 4,
 "nbformat_minor": 0
}
